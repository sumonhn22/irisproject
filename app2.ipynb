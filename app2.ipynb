{
 "cells": [
  {
   "cell_type": "code",
   "execution_count": 3,
   "metadata": {},
   "outputs": [],
   "source": [
    "import streamlit as st\n",
    "import pandas as pd\n",
    "import pickle\n",
    "from PIL import Image\n",
    "# model = pickle.load(open('IRIS-model.pkl', 'rb'))\n",
    "import pickle\n",
    "model = pickle.load( open( \"save.p\", \"rb\" ) )"
   ]
  },
  {
   "cell_type": "code",
   "execution_count": 4,
   "metadata": {},
   "outputs": [
    {
     "name": "stderr",
     "output_type": "stream",
     "text": [
      "2021-03-03 18:28:14.873 WARNING root: \n",
      "  \u001b[33m\u001b[1mWarning:\u001b[0m to view this Streamlit app on a browser, run it with the following\n",
      "  command:\n",
      "\n",
      "    streamlit run /home/sumon/anaconda3/lib/python3.8/site-packages/ipykernel_launcher.py [ARGUMENTS]\n"
     ]
    }
   ],
   "source": [
    "st.header(\"Iris Classification:\")\n",
    "image = Image.open('image.png')\n",
    "st.image(image, use_column_width=True,format='PNG')\n",
    "st.write(\"Please insert values, to get Iris class prediction\")\n",
    "\n",
    "SepalLengthCm = st.slider('SepalLengthCm:', 2.0, 6.0)\n",
    "SepalWidthCm = st.slider('SepalWidthCm:', 0.0, 5.0)\n",
    "PetalLengthCm = st.slider('PetalLengthCm',0.0, 3.0)\n",
    "PetalWidthCm = st.slider('PetalWidthCm:', 0.0, 2.0)\n",
    "data = {'SepalLengthCm': SepalLengthCm,\n",
    "        'SepalWidthCm': SepalWidthCm,\n",
    "        'PetalLengthCm': PetalLengthCm,\n",
    "        'PetalWidthCm': PetalWidthCm}\n",
    "\n",
    "features = pd.DataFrame(data, index=[0])\n",
    "\n",
    "pred_proba = model.predict_proba(features)\n",
    "#or\n",
    "prediction = model.predict(features)\n",
    "\n",
    "st.subheader('Prediction Percentages:') \n",
    "st.write('**Probablity of Iris Class being Iris-setosa is ( in % )**:',pred_proba[0][0]*100)\n",
    "st.write('**Probablity of Isis Class being Iris-versicolor is ( in % )**:',pred_proba[0][1]*100)\n",
    "st.write('**Probablity of Isis Class being Iris-virginica ( in % )**:',pred_proba[0][2]*100)"
   ]
  },
  {
   "cell_type": "code",
   "execution_count": null,
   "metadata": {},
   "outputs": [],
   "source": []
  }
 ],
 "metadata": {
  "kernelspec": {
   "display_name": "Python 3",
   "language": "python",
   "name": "python3"
  },
  "language_info": {
   "codemirror_mode": {
    "name": "ipython",
    "version": 3
   },
   "file_extension": ".py",
   "mimetype": "text/x-python",
   "name": "python",
   "nbconvert_exporter": "python",
   "pygments_lexer": "ipython3",
   "version": "3.8.5"
  }
 },
 "nbformat": 4,
 "nbformat_minor": 4
}

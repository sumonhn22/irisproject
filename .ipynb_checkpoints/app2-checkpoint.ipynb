{
 "cells": [
  {
   "cell_type": "code",
   "execution_count": 1,
   "metadata": {},
   "outputs": [
    {
     "ename": "FileNotFoundError",
     "evalue": "[Errno 2] No such file or directory: 'IRIS-model.pkl'",
     "output_type": "error",
     "traceback": [
      "\u001b[0;31m---------------------------------------------------------------------------\u001b[0m",
      "\u001b[0;31mFileNotFoundError\u001b[0m                         Traceback (most recent call last)",
      "\u001b[0;32m<ipython-input-1-0e85f78f3fb5>\u001b[0m in \u001b[0;36m<module>\u001b[0;34m\u001b[0m\n\u001b[1;32m      3\u001b[0m \u001b[0;32mimport\u001b[0m \u001b[0mpickle\u001b[0m\u001b[0;34m\u001b[0m\u001b[0;34m\u001b[0m\u001b[0m\n\u001b[1;32m      4\u001b[0m \u001b[0;32mfrom\u001b[0m \u001b[0mPIL\u001b[0m \u001b[0;32mimport\u001b[0m \u001b[0mImage\u001b[0m\u001b[0;34m\u001b[0m\u001b[0;34m\u001b[0m\u001b[0m\n\u001b[0;32m----> 5\u001b[0;31m \u001b[0mmodel\u001b[0m \u001b[0;34m=\u001b[0m \u001b[0mpickle\u001b[0m\u001b[0;34m.\u001b[0m\u001b[0mload\u001b[0m\u001b[0;34m(\u001b[0m\u001b[0mopen\u001b[0m\u001b[0;34m(\u001b[0m\u001b[0;34m'IRIS-model.pkl'\u001b[0m\u001b[0;34m,\u001b[0m \u001b[0;34m'rb'\u001b[0m\u001b[0;34m)\u001b[0m\u001b[0;34m)\u001b[0m\u001b[0;34m\u001b[0m\u001b[0;34m\u001b[0m\u001b[0m\n\u001b[0m",
      "\u001b[0;31mFileNotFoundError\u001b[0m: [Errno 2] No such file or directory: 'IRIS-model.pkl'"
     ]
    }
   ],
   "source": [
    "import streamlit as st\n",
    "import pandas as pd\n",
    "import pickle\n",
    "from PIL import Image\n",
    "model = pickle.load(open('IRIS-model.pkl', 'rb'))"
   ]
  },
  {
   "cell_type": "code",
   "execution_count": null,
   "metadata": {},
   "outputs": [],
   "source": [
    "st.header(\"Iris Classification:\")\n",
    "image = Image.open('image.png')\n",
    "st.image(image, use_column_width=True,format='PNG')\n",
    "st.write(\"Please insert values, to get Iris class prediction\")\n",
    "\n",
    "SepalLengthCm = st.slider('SepalLengthCm:', 2.0, 6.0)\n",
    "SepalWidthCm = st.slider('SepalWidthCm:', 0.0, 5.0)\n",
    "PetalLengthCm = st.slider('PetalLengthCm',0.0, 3.0)\n",
    "PetalWidthCm = st.slider('PetalWidthCm:', 0.0, 2.0)\n",
    "data = {'SepalLengthCm': SepalLengthCm,\n",
    "        'SepalWidthCm': SepalWidthCm,\n",
    "        'PetalLengthCm': PetalLengthCm,\n",
    "        'PetalWidthCm': PetalWidthCm}\n",
    "\n",
    "features = pd.DataFrame(data, index=[0])\n",
    "\n",
    "pred_proba = model.predict_proba(features)\n",
    "#or\n",
    "prediction = model.predict(features)\n",
    "\n",
    "st.subheader('Prediction Percentages:') \n",
    "st.write('**Probablity of Iris Class being Iris-setosa is ( in % )**:',pred_proba[0][0]*100)\n",
    "st.write('**Probablity of Isis Class being Iris-versicolor is ( in % )**:',pred_proba[0][1]*100)\n",
    "st.write('**Probablity of Isis Class being Iris-virginica ( in % )**:',pred_proba[0][2]*100)"
   ]
  }
 ],
 "metadata": {
  "kernelspec": {
   "display_name": "Python 3",
   "language": "python",
   "name": "python3"
  },
  "language_info": {
   "codemirror_mode": {
    "name": "ipython",
    "version": 3
   },
   "file_extension": ".py",
   "mimetype": "text/x-python",
   "name": "python",
   "nbconvert_exporter": "python",
   "pygments_lexer": "ipython3",
   "version": "3.8.5"
  }
 },
 "nbformat": 4,
 "nbformat_minor": 4
}
